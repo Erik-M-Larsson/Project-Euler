{
 "cells": [
  {
   "attachments": {},
   "cell_type": "markdown",
   "metadata": {},
   "source": [
    "# Concealed Square\n",
    "### Problem 206\n",
    "\n",
    "Find the unique positive integer whose square has the form 1_2_3_4_5_6_7_8_9_0,\n",
    "where each “_” is a single digit."
   ]
  },
  {
   "cell_type": "code",
   "execution_count": 132,
   "metadata": {},
   "outputs": [
    {
     "name": "stdout",
     "output_type": "stream",
     "text": [
      "1389019170\n",
      "1929374254627488900\n"
     ]
    }
   ],
   "source": [
    "import math\n",
    "\n",
    "for n in range(round(math.isqrt(1020304050607080900), -1), math.isqrt(1929394959697989990)+10, 10):\n",
    "    if str(n**2)[::2] == \"1234567890\":\n",
    "        break\n",
    "\n",
    "print(n)\n",
    "print(n**2)"
   ]
  }
 ],
 "metadata": {
  "kernelspec": {
   "display_name": "Python 3",
   "language": "python",
   "name": "python3"
  },
  "language_info": {
   "codemirror_mode": {
    "name": "ipython",
    "version": 3
   },
   "file_extension": ".py",
   "mimetype": "text/x-python",
   "name": "python",
   "nbconvert_exporter": "python",
   "pygments_lexer": "ipython3",
   "version": "3.9.7"
  },
  "orig_nbformat": 4,
  "vscode": {
   "interpreter": {
    "hash": "fef3571d6bf085add123fca72cc02c04844d6759d57a6f41ae441c841ab8eee5"
   }
  }
 },
 "nbformat": 4,
 "nbformat_minor": 2
}
