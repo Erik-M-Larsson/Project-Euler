{
 "cells": [
  {
   "cell_type": "markdown",
   "id": "18fae4ff",
   "metadata": {},
   "source": [
    "# Largest prime factor\n",
    "### Problem 3\n",
    "\n",
    "The prime factors of 13195 are 5, 7, 13 and 29.\n",
    "\n",
    "What is the largest prime factor of the number 600851475143 ?\n"
   ]
  },
  {
   "cell_type": "code",
   "execution_count": 4,
   "metadata": {},
   "outputs": [],
   "source": [
    "import math"
   ]
  },
  {
   "cell_type": "code",
   "execution_count": 5,
   "metadata": {},
   "outputs": [],
   "source": [
    "def check_if_prime(n):\n",
    "    for i in range(2, int(math.sqrt(n) + 1)):\n",
    "        if n % i == 0:\n",
    "            return False\n",
    "    else:\n",
    "        return True"
   ]
  },
  {
   "cell_type": "code",
   "execution_count": 6,
   "id": "20b0992c",
   "metadata": {},
   "outputs": [],
   "source": [
    "def find_largest_prime_factor(n):\n",
    "    # print(\"n\", n)\n",
    "\n",
    "    for i in range(2, int(math.sqrt(n) + 1)):\n",
    "\n",
    "        if check_if_prime(i):\n",
    "            # print(\"i\", i)\n",
    "\n",
    "            if n % i == 0:\n",
    "                candidate_factor = n // i\n",
    "                # print(\"candidate_factor\", candidate_factor)\n",
    "\n",
    "                if check_if_prime(candidate_factor):\n",
    "                    return candidate_factor\n",
    "\n",
    "                else:\n",
    "\n",
    "                    return find_largest_prime_factor(candidate_factor)\n",
    "\n",
    "    else:\n",
    "        return False"
   ]
  },
  {
   "cell_type": "code",
   "execution_count": 7,
   "id": "91300def",
   "metadata": {},
   "outputs": [
    {
     "data": {
      "text/plain": [
       "6857"
      ]
     },
     "execution_count": 7,
     "metadata": {},
     "output_type": "execute_result"
    }
   ],
   "source": [
    "number = 600851475143\n",
    "find_largest_prime_factor(number)\n"
   ]
  }
 ],
 "metadata": {
  "kernelspec": {
   "display_name": "Python 3.9.7 64-bit",
   "language": "python",
   "name": "python3"
  },
  "language_info": {
   "codemirror_mode": {
    "name": "ipython",
    "version": 3
   },
   "file_extension": ".py",
   "mimetype": "text/x-python",
   "name": "python",
   "nbconvert_exporter": "python",
   "pygments_lexer": "ipython3",
   "version": "3.9.7"
  },
  "orig_nbformat": 4,
  "vscode": {
   "interpreter": {
    "hash": "fef3571d6bf085add123fca72cc02c04844d6759d57a6f41ae441c841ab8eee5"
   }
  }
 },
 "nbformat": 4,
 "nbformat_minor": 2
}
