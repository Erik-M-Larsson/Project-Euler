{
 "cells": [
  {
   "attachments": {},
   "cell_type": "markdown",
   "metadata": {},
   "source": [
    "# Combinatoric selections\n",
    "### Problem 53\n",
    "\n",
    "There are exactly ten ways of selecting three from five, 12345:\n",
    "\n",
    "    123, 124, 125, 134, 135, 145, 234, 235, 245, and 345\n",
    "\n",
    "In combinatorics, we use the notation, $\\displaystyle \\binom 5 3 = 10$.\n",
    "\n",
    "In general, $\\displaystyle \\binom n r = \\dfrac{n!}{r!(n-r)!}$, where $r \\le n$, $n! = n \\times (n-1) \\times ... \\times 3 \\times 2 \\times 1$, and $0! = 1$.\n",
    "\n",
    "It is not until $n = 23$, that a value exceeds one-million: $\\displaystyle \\binom {23} {10} = 1144066$.\n",
    "\n",
    "How many, not necessarily distinct, values of $\\displaystyle \\binom n r$ for $1 \\le n \\le 100$, are greater than one-million?"
   ]
  },
  {
   "cell_type": "code",
   "execution_count": 13,
   "metadata": {},
   "outputs": [
    {
     "data": {
      "text/plain": [
       "4075"
      ]
     },
     "execution_count": 13,
     "metadata": {},
     "output_type": "execute_result"
    }
   ],
   "source": [
    "from math import factorial\n",
    "\n",
    "n_ncr_over_1M = 0\n",
    "for n in range(1, 100+1):\n",
    "    for r in range(1, n+1):\n",
    "        ncr = factorial(n)//(factorial(r)*factorial(n-r))\n",
    "        if ncr > 1_000_000:\n",
    "            n_ncr_over_1M += 1\n",
    "\n",
    "n_ncr_over_1M"
   ]
  }
 ],
 "metadata": {
  "kernelspec": {
   "display_name": "Python 3",
   "language": "python",
   "name": "python3"
  },
  "language_info": {
   "codemirror_mode": {
    "name": "ipython",
    "version": 3
   },
   "file_extension": ".py",
   "mimetype": "text/x-python",
   "name": "python",
   "nbconvert_exporter": "python",
   "pygments_lexer": "ipython3",
   "version": "3.9.7"
  },
  "orig_nbformat": 4,
  "vscode": {
   "interpreter": {
    "hash": "fef3571d6bf085add123fca72cc02c04844d6759d57a6f41ae441c841ab8eee5"
   }
  }
 },
 "nbformat": 4,
 "nbformat_minor": 2
}
