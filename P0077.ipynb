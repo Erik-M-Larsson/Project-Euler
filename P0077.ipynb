{
 "cells": [
  {
   "attachments": {},
   "cell_type": "markdown",
   "metadata": {},
   "source": [
    "# Prime summations\n",
    "### Problem 77\n",
    "It is possible to write ten as the sum of primes in exactly five different ways:\n",
    "\n",
    "    7 + 3\n",
    "    5 + 5\n",
    "    5 + 3 + 2\n",
    "    3 + 3 + 2 + 2\n",
    "    2 + 2 + 2 + 2 + 2\n",
    "\n",
    "What is the first value which can be written as the sum of primes in over five thousand different ways?"
   ]
  },
  {
   "cell_type": "code",
   "execution_count": 4,
   "metadata": {},
   "outputs": [],
   "source": [
    "from functions import prime_mask\n",
    "from itertools import count\n",
    "import numpy as np"
   ]
  },
  {
   "cell_type": "code",
   "execution_count": 5,
   "metadata": {},
   "outputs": [],
   "source": [
    "def rek(n, max_v=None):\n",
    "    if n == 0:\n",
    "        return 1\n",
    "    elif n == 1:\n",
    "        return 0\n",
    "    \n",
    "    global calculated_values\n",
    "    if calculated_values is None: calculated_values = np.ones((n+1, n+1) , dtype=np.int64) * -1\n",
    "    if max_v is None: max_v=n\n",
    "    n_ways = 0\n",
    "    \n",
    "    primes = np.nonzero(prime_mask(min(n, max_v)))[0]\n",
    "\n",
    "    for i in primes[::-1]:\n",
    "        if calculated_values[n-i, min(max_v, i)] == -1: \n",
    "            calculated_values[n-i, min(max_v, i)] = rek(n-i, min(max_v, i))\n",
    "           \n",
    "        n_ways += calculated_values[n-i, min(max_v, i)]\n",
    " \n",
    "    return n_ways"
   ]
  },
  {
   "cell_type": "code",
   "execution_count": 6,
   "metadata": {},
   "outputs": [
    {
     "data": {
      "text/plain": [
       "71"
      ]
     },
     "execution_count": 6,
     "metadata": {},
     "output_type": "execute_result"
    }
   ],
   "source": [
    "for n in count(1):\n",
    "    calculated_values = None\n",
    "    if rek(n) > 5_000:\n",
    "        break\n",
    "n"
   ]
  }
 ],
 "metadata": {
  "kernelspec": {
   "display_name": "Python 3",
   "language": "python",
   "name": "python3"
  },
  "language_info": {
   "codemirror_mode": {
    "name": "ipython",
    "version": 3
   },
   "file_extension": ".py",
   "mimetype": "text/x-python",
   "name": "python",
   "nbconvert_exporter": "python",
   "pygments_lexer": "ipython3",
   "version": "3.9.7"
  },
  "orig_nbformat": 4,
  "vscode": {
   "interpreter": {
    "hash": "fef3571d6bf085add123fca72cc02c04844d6759d57a6f41ae441c841ab8eee5"
   }
  }
 },
 "nbformat": 4,
 "nbformat_minor": 2
}
