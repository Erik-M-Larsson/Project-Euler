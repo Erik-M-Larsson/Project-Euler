{
 "cells": [
  {
   "attachments": {},
   "cell_type": "markdown",
   "metadata": {},
   "source": [
    "# Disc game prize fund\n",
    "### Problem 121\n",
    "\n",
    "A bag contains one red disc and one blue disc. In a game of chance a player takes a disc at random and its colour is noted. After each turn the disc is returned to the bag, an extra red disc is added, and another disc is taken at random.\n",
    "\n",
    "The player pays £1 to play and wins if they have taken more blue discs than red discs at the end of the game.\n",
    "\n",
    "If the game is played for four turns, the probability of a player winning is exactly 11/120, and so the maximum prize fund the banker should allocate for winning in this game would be £10 before they would expect to incur a loss. Note that any payout will be a whole number of pounds and also includes the original £1 paid to play the game, so in the example given the player actually wins £9.\n",
    "\n",
    "Find the maximum prize fund that should be allocated to a single game in which fifteen turns are played.\n"
   ]
  },
  {
   "cell_type": "code",
   "execution_count": 8,
   "metadata": {},
   "outputs": [
    {
     "data": {
      "text/plain": [
       "2269"
      ]
     },
     "execution_count": 8,
     "metadata": {},
     "output_type": "execute_result"
    }
   ],
   "source": [
    "import numpy as np\n",
    "\n",
    "n=15\n",
    "pyramid = [[1, 0]]\n",
    "\n",
    "for i in range(1, n+1):\n",
    "   \n",
    "    p = 1/(i+1)\n",
    "    new_row = np.zeros(i+2)\n",
    "    for j, v in enumerate(pyramid[-1]):\n",
    "        new_row[j] += v * p \n",
    "        new_row[j+1] += v * (1-p)\n",
    "\n",
    "    pyramid.append(new_row)\n",
    "\n",
    "max_red = n - int(np.floor(n/2) + 1)\n",
    "int(1/pyramid[-1][0:max_red+1].sum()) "
   ]
  }
 ],
 "metadata": {
  "kernelspec": {
   "display_name": "Python 3.9.7 64-bit",
   "language": "python",
   "name": "python3"
  },
  "language_info": {
   "codemirror_mode": {
    "name": "ipython",
    "version": 3
   },
   "file_extension": ".py",
   "mimetype": "text/x-python",
   "name": "python",
   "nbconvert_exporter": "python",
   "pygments_lexer": "ipython3",
   "version": "3.9.7 (tags/v3.9.7:1016ef3, Aug 30 2021, 20:19:38) [MSC v.1929 64 bit (AMD64)]"
  },
  "orig_nbformat": 4,
  "vscode": {
   "interpreter": {
    "hash": "fef3571d6bf085add123fca72cc02c04844d6759d57a6f41ae441c841ab8eee5"
   }
  }
 },
 "nbformat": 4,
 "nbformat_minor": 2
}
