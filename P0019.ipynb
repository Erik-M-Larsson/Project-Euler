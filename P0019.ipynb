{
 "cells": [
  {
   "attachments": {},
   "cell_type": "markdown",
   "metadata": {},
   "source": [
    "# Counting Sundays\n",
    "### Problem 19\n",
    "\n",
    "You are given the following information, but you may prefer to do some research for yourself.\n",
    "\n",
    "* 1 Jan 1900 was a Monday.\n",
    "* Thirty days has September,\n",
    "April, June and November.\n",
    "All the rest have thirty-one,\n",
    "Saving February alone,\n",
    "Which has twenty-eight, rain or shine.\n",
    "And on leap years, twenty-nine.\n",
    "* A leap year occurs on any year evenly divisible by 4, but not on a century unless it is divisible by 400.\n",
    "\n",
    "How many Sundays fell on the first of the month during the twentieth century (1 Jan 1901 to 31 Dec 2000)?"
   ]
  },
  {
   "cell_type": "code",
   "execution_count": 51,
   "metadata": {},
   "outputs": [
    {
     "data": {
      "text/plain": [
       "171"
      ]
     },
     "execution_count": 51,
     "metadata": {},
     "output_type": "execute_result"
    }
   ],
   "source": [
    "first_of_month =  0 + 334 % 7 \n",
    "sundays = 0\n",
    "for year in range(1901, 2000+1):\n",
    "    leep_day = 0 if year%4 else 1 if year%100 else 0 if year%400 else 1\n",
    "\n",
    "    for j, m in enumerate([31, 31, 28+leep_day, 31, 30, 31, 30, 31, 31, 30, 31, 30]):\n",
    "        first_of_month += m\n",
    "        if first_of_month%7 == 6:\n",
    "            sundays +=1\n",
    "\n",
    "sundays"
   ]
  }
 ],
 "metadata": {
  "kernelspec": {
   "display_name": "Python 3",
   "language": "python",
   "name": "python3"
  },
  "language_info": {
   "codemirror_mode": {
    "name": "ipython",
    "version": 3
   },
   "file_extension": ".py",
   "mimetype": "text/x-python",
   "name": "python",
   "nbconvert_exporter": "python",
   "pygments_lexer": "ipython3",
   "version": "3.9.7 (tags/v3.9.7:1016ef3, Aug 30 2021, 20:19:38) [MSC v.1929 64 bit (AMD64)]"
  },
  "orig_nbformat": 4,
  "vscode": {
   "interpreter": {
    "hash": "fef3571d6bf085add123fca72cc02c04844d6759d57a6f41ae441c841ab8eee5"
   }
  }
 },
 "nbformat": 4,
 "nbformat_minor": 2
}
