{
 "cells": [
  {
   "attachments": {
    "image.png": {
     "image/png": "[encoded data removed]"
    }
   },
   "cell_type": "markdown",
   "metadata": {},
   "source": [
    "# Lattice paths\n",
    "### Problem 15\n",
    "\n",
    "Starting in the top left corner of a 2×2 grid, and only being able to move to the right and down, there are exactly 6 routes to the bottom right corner.\n",
    "\n",
    "![image.png](attachment:image.png)\n",
    "\n",
    "How many such routes are there through a 20×20 grid?"
   ]
  },
  {
   "cell_type": "code",
   "execution_count": 45,
   "metadata": {},
   "outputs": [
    {
     "data": {
      "text/plain": [
       "137846528820"
      ]
     },
     "execution_count": 45,
     "metadata": {},
     "output_type": "execute_result"
    }
   ],
   "source": [
    "n = 20\n",
    "\n",
    "row = [0, 1, 0]\n",
    "\n",
    "for j in range(2*(n+1)-2):\n",
    "    row = [0]+[row[i] + row[i+1] for i, _ in enumerate(row[0:-1])]+[0]\n",
    "\n",
    "row[n+1]"
   ]
  }
 ],
 "metadata": {
  "kernelspec": {
   "display_name": "Python 3",
   "language": "python",
   "name": "python3"
  },
  "language_info": {
   "codemirror_mode": {
    "name": "ipython",
    "version": 3
   },
   "file_extension": ".py",
   "mimetype": "text/x-python",
   "name": "python",
   "nbconvert_exporter": "python",
   "pygments_lexer": "ipython3",
   "version": "3.9.7"
  },
  "orig_nbformat": 4,
  "vscode": {
   "interpreter": {
    "hash": "fef3571d6bf085add123fca72cc02c04844d6759d57a6f41ae441c841ab8eee5"
   }
  }
 },
 "nbformat": 4,
 "nbformat_minor": 2
}
