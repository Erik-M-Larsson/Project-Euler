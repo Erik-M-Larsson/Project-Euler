{
 "cells": [
  {
   "attachments": {},
   "cell_type": "markdown",
   "metadata": {},
   "source": [
    "# Truncatable primes\n",
    "\n",
    "### Problem 37\n",
    "The number 3797 has an interesting property. Being prime itself, it is possible to continuously remove digits from left to right, and remain prime at each stage: 3797, 797, 97, and 7. Similarly we can work from right to left: 3797, 379, 37, and 3.\n",
    "\n",
    "Find the sum of the only eleven primes that are both truncatable from left to right and right to left.\n",
    "\n",
    "NOTE: 2, 3, 5, and 7 are not considered to be truncatable primes."
   ]
  },
  {
   "cell_type": "code",
   "execution_count": 82,
   "metadata": {},
   "outputs": [
    {
     "name": "stdout",
     "output_type": "stream",
     "text": [
      "23\n",
      "37\n",
      "53\n",
      "73\n",
      "313\n",
      "317\n",
      "373\n",
      "797\n",
      "3137\n",
      "3797\n",
      "739397\n"
     ]
    },
    {
     "data": {
      "text/plain": [
       "748317"
      ]
     },
     "execution_count": 82,
     "metadata": {},
     "output_type": "execute_result"
    }
   ],
   "source": [
    "from functions import check_if_prime, prime_generator\n",
    "\n",
    "truncatabel_primes = []\n",
    "\n",
    "for i, p in enumerate(prime_generator()):\n",
    "\n",
    "    p_str = str(p)\n",
    "    for i, _ in enumerate(p_str[:-1]):\n",
    "        if not check_if_prime(int(p_str[:-i-1])):\n",
    "            break\n",
    "    else:      \n",
    "        for i, _ in enumerate(p_str[1:]):\n",
    "            if not check_if_prime(int(p_str[i+1:])):\n",
    "                break\n",
    "        else:\n",
    "            if p > 10:\n",
    "                print(p)\n",
    "                truncatabel_primes.append(p)\n",
    "                if len(truncatabel_primes) >= 11:\n",
    "                    break\n",
    "                \n",
    "sum(truncatabel_primes)"
   ]
  }
 ],
 "metadata": {
  "kernelspec": {
   "display_name": "Python 3",
   "language": "python",
   "name": "python3"
  },
  "language_info": {
   "codemirror_mode": {
    "name": "ipython",
    "version": 3
   },
   "file_extension": ".py",
   "mimetype": "text/x-python",
   "name": "python",
   "nbconvert_exporter": "python",
   "pygments_lexer": "ipython3",
   "version": "3.9.7 (tags/v3.9.7:1016ef3, Aug 30 2021, 20:19:38) [MSC v.1929 64 bit (AMD64)]"
  },
  "orig_nbformat": 4,
  "vscode": {
   "interpreter": {
    "hash": "fef3571d6bf085add123fca72cc02c04844d6759d57a6f41ae441c841ab8eee5"
   }
  }
 },
 "nbformat": 4,
 "nbformat_minor": 2
}
