{
 "cells": [
  {
   "attachments": {},
   "cell_type": "markdown",
   "metadata": {},
   "source": [
    "# Double-base palindromes\n",
    "### Problem 36\n",
    "The decimal number, 585 = 1001001001 2 (binary), is palindromic in both bases.\n",
    "\n",
    "Find the sum of all numbers, less than one million, which are palindromic in base 10 and base 2.\n",
    "\n",
    "(Please note that the palindromic number, in either base, may not include leading zeros.)"
   ]
  },
  {
   "cell_type": "code",
   "execution_count": 30,
   "metadata": {},
   "outputs": [
    {
     "name": "stdout",
     "output_type": "stream",
     "text": [
      "1 1\n",
      "3 11\n",
      "5 101\n",
      "7 111\n",
      "9 1001\n",
      "33 100001\n",
      "99 1100011\n",
      "313 100111001\n",
      "585 1001001001\n",
      "717 1011001101\n",
      "7447 1110100010111\n",
      "9009 10001100110001\n",
      "15351 11101111110111\n",
      "32223 111110111011111\n",
      "39993 1001110000111001\n",
      "53235 1100111111110011\n",
      "53835 1101001001001011\n",
      "73737 10010000000001001\n",
      "585585 10001110111101110001\n"
     ]
    },
    {
     "data": {
      "text/plain": [
       "19"
      ]
     },
     "execution_count": 30,
     "metadata": {},
     "output_type": "execute_result"
    }
   ],
   "source": [
    "N = 1_000_000 \n",
    "\n",
    "sum_double_palindromes = 0\n",
    "for n in range(1, N):\n",
    "    n_str = str(n)\n",
    "\n",
    "    if n_str == n_str[::-1]:\n",
    "        n_b_str = f\"{n:b}\"\n",
    "\n",
    "        if n_b_str == n_b_str[::-1]:\n",
    "            print(n, n_b_str)\n",
    "            sum_double_palindromes += 1 \n",
    "\n",
    "sum_double_palindromes"
   ]
  },
  {
   "attachments": {},
   "cell_type": "markdown",
   "metadata": {},
   "source": [
    "List comprehension"
   ]
  },
  {
   "cell_type": "code",
   "execution_count": 29,
   "metadata": {},
   "outputs": [
    {
     "data": {
      "text/plain": [
       "19"
      ]
     },
     "execution_count": 29,
     "metadata": {},
     "output_type": "execute_result"
    }
   ],
   "source": [
    "len([1 for n in range(1, N) if (n_str := str(n)) == n_str[::-1] if (n_b_str := f\"{n:b}\") == n_b_str[::-1]])"
   ]
  }
 ],
 "metadata": {
  "kernelspec": {
   "display_name": "Python 3",
   "language": "python",
   "name": "python3"
  },
  "language_info": {
   "codemirror_mode": {
    "name": "ipython",
    "version": 3
   },
   "file_extension": ".py",
   "mimetype": "text/x-python",
   "name": "python",
   "nbconvert_exporter": "python",
   "pygments_lexer": "ipython3",
   "version": "3.9.7"
  },
  "orig_nbformat": 4,
  "vscode": {
   "interpreter": {
    "hash": "fef3571d6bf085add123fca72cc02c04844d6759d57a6f41ae441c841ab8eee5"
   }
  }
 },
 "nbformat": 4,
 "nbformat_minor": 2
}
