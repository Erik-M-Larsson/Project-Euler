{
 "cells": [
  {
   "attachments": {},
   "cell_type": "markdown",
   "metadata": {},
   "source": [
    "# Lexicographic permutations\n",
    "### Problem 24\n",
    "A permutation is an ordered arrangement of objects. For example, 3124 is one possible permutation of the digits 1, 2, 3 and 4. If all of the permutations are listed numerically or alphabetically, we call it lexicographic order. The lexicographic permutations of 0, 1 and 2 are:\n",
    "\n",
    "    012   021   102   120   201   210\n",
    "\n",
    "What is the millionth lexicographic permutation of the digits 0, 1, 2, 3, 4, 5, 6, 7, 8 and 9?"
   ]
  },
  {
   "cell_type": "code",
   "execution_count": 25,
   "metadata": {},
   "outputs": [
    {
     "data": {
      "text/plain": [
       "{'0', '1', '2', '3', '4', '5', '6', '7', '8', '9'}"
      ]
     },
     "execution_count": 25,
     "metadata": {},
     "output_type": "execute_result"
    }
   ],
   "source": [
    "digits"
   ]
  },
  {
   "cell_type": "code",
   "execution_count": 26,
   "metadata": {},
   "outputs": [
    {
     "data": {
      "text/plain": [
       "'2783915460'"
      ]
     },
     "execution_count": 26,
     "metadata": {},
     "output_type": "execute_result"
    }
   ],
   "source": [
    "digits = set('0123456789')\n",
    "\n",
    "permutaions = [\n",
    "    d0+d1+d2+d3+d4+d5+d6+d7+d8+d9 \n",
    "    for d0 in digits \n",
    "    for d1 in digits - {d0} \n",
    "    for d2 in digits - {d0, d1}  \n",
    "    for d3 in digits - {d0, d1, d2} \n",
    "    for d4 in digits - {d0, d1, d2, d3}  \n",
    "    for d5 in digits - {d0, d1, d2, d3, d4}  \n",
    "    for d6 in digits - {d0, d1, d2, d3, d4, d5}  \n",
    "    for d7 in digits - {d0, d1, d2, d3, d4, d5, d6}  \n",
    "    for d8 in digits - {d0, d1, d2, d3, d4, d5, d6, d7}  \n",
    "    for d9 in digits - {d0, d1, d2, d3, d4, d5, d6, d7, d8}\n",
    "]\n",
    "\n",
    "permutaions.sort()\n",
    "permutaions[1_000_000-1]"
   ]
  }
 ],
 "metadata": {
  "kernelspec": {
   "display_name": "Python 3",
   "language": "python",
   "name": "python3"
  },
  "language_info": {
   "codemirror_mode": {
    "name": "ipython",
    "version": 3
   },
   "file_extension": ".py",
   "mimetype": "text/x-python",
   "name": "python",
   "nbconvert_exporter": "python",
   "pygments_lexer": "ipython3",
   "version": "3.9.7"
  },
  "orig_nbformat": 4,
  "vscode": {
   "interpreter": {
    "hash": "fef3571d6bf085add123fca72cc02c04844d6759d57a6f41ae441c841ab8eee5"
   }
  }
 },
 "nbformat": 4,
 "nbformat_minor": 2
}
