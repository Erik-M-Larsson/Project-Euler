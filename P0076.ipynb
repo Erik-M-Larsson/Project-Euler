{
 "cells": [
  {
   "attachments": {},
   "cell_type": "markdown",
   "metadata": {},
   "source": [
    "# Counting summations\n",
    "### Problem 76\n",
    "It is possible to write five as a sum in exactly six different ways:\n",
    "\n",
    "    4 + 1\n",
    "    3 + 2\n",
    "    3 + 1 + 1\n",
    "    2 + 2 + 1\n",
    "    2 + 1 + 1 + 1\n",
    "    1 + 1 + 1 + 1 + 1\n",
    "\n",
    "How many different ways can one hundred be written as a sum of at least two positive integers?"
   ]
  },
  {
   "cell_type": "code",
   "execution_count": 6,
   "metadata": {},
   "outputs": [],
   "source": [
    "import numpy as np"
   ]
  },
  {
   "cell_type": "code",
   "execution_count": 7,
   "metadata": {},
   "outputs": [],
   "source": [
    "def rek(n, max_v=None):\n",
    "    global calculated_values\n",
    "    if calculated_values is None: calculated_values = np.ones((n+1, n+1) , dtype=np.int64) * -1\n",
    "    \n",
    "    if max_v is None: max_v=n\n",
    "\n",
    "    n_ways = 1 if max_v >= n else 0\n",
    "    \n",
    "    for i in range(min(n-1, max_v), 0, -1):\n",
    "        if calculated_values[n-i, min(max_v, i)] == -1: \n",
    "            calculated_values[n-i, min(max_v, i)] = rek(n-i, min(max_v, i))\n",
    "           \n",
    "        n_ways += calculated_values[n-i, min(max_v, i)]\n",
    "\n",
    "    return n_ways"
   ]
  },
  {
   "cell_type": "code",
   "execution_count": 8,
   "metadata": {},
   "outputs": [
    {
     "data": {
      "text/plain": [
       "190569291"
      ]
     },
     "execution_count": 8,
     "metadata": {},
     "output_type": "execute_result"
    }
   ],
   "source": [
    "calculated_values = None\n",
    "rek(100)-1"
   ]
  }
 ],
 "metadata": {
  "kernelspec": {
   "display_name": "Python 3",
   "language": "python",
   "name": "python3"
  },
  "language_info": {
   "codemirror_mode": {
    "name": "ipython",
    "version": 3
   },
   "file_extension": ".py",
   "mimetype": "text/x-python",
   "name": "python",
   "nbconvert_exporter": "python",
   "pygments_lexer": "ipython3",
   "version": "3.9.7"
  },
  "orig_nbformat": 4,
  "vscode": {
   "interpreter": {
    "hash": "fef3571d6bf085add123fca72cc02c04844d6759d57a6f41ae441c841ab8eee5"
   }
  }
 },
 "nbformat": 4,
 "nbformat_minor": 2
}
