{
 "cells": [
  {
   "attachments": {},
   "cell_type": "markdown",
   "metadata": {},
   "source": [
    "# Path sum: two ways\n",
    "### Problem 81\n",
    "In the 5 by 5 matrix below, the minimal path sum from the top left to the bottom right, by only moving to the right and down, is indicated in bold red and is equal to 2427.\n",
    "\n",
    "\\begin{pmatrix}\n",
    "\\color{red}{131} & 673 & 234 & 103 & 18\\\\\n",
    "\\color{red}{201} & \\color{red}{96} & \\color{red}{342} & 965 & 150\\\\\n",
    "630 & 803 & \\color{red}{746} & \\color{red}{422} & 111\\\\\n",
    "537 & 699 & 497 & \\color{red}{121} & 956\\\\\n",
    "805 & 732 & 524 & \\color{red}{37} & \\color{red}{331}\n",
    "\\end{pmatrix}\n",
    "\n",
    "Find the minimal path sum from the top left to the bottom right by only moving right and down in matrix.txt (right click and \"Save Link/Target As...\"), a 31K text file containing an 80 by 80 matrix."
   ]
  },
  {
   "cell_type": "code",
   "execution_count": 36,
   "metadata": {},
   "outputs": [
    {
     "data": {
      "text/plain": [
       "427337"
      ]
     },
     "execution_count": 36,
     "metadata": {},
     "output_type": "execute_result"
    }
   ],
   "source": [
    "import numpy as np\n",
    "\n",
    "with open(\"p081_matrix.txt\", \"r\") as f:\n",
    "    data =  f.read().splitlines()\n",
    "\n",
    "matrix = np.array([list(map(int, row.split(\",\"))) for row in data], dtype=int)\n",
    "n, m = matrix.shape\n",
    "\n",
    "for i in range(0, n-1):\n",
    "    matrix[i+1, 0] = sum(matrix[i:i+2, 0])\n",
    "    matrix[0, i+1] = sum(matrix[0, i:i+2])\n",
    "\n",
    "\n",
    "for i in range(1, n):\n",
    "    for j in range(1, m):\n",
    "        matrix[i,j] += min(matrix[i-1, j], matrix[i, j-1])\n",
    "\n",
    "matrix[-1, -1]"
   ]
  }
 ],
 "metadata": {
  "kernelspec": {
   "display_name": "Python 3",
   "language": "python",
   "name": "python3"
  },
  "language_info": {
   "codemirror_mode": {
    "name": "ipython",
    "version": 3
   },
   "file_extension": ".py",
   "mimetype": "text/x-python",
   "name": "python",
   "nbconvert_exporter": "python",
   "pygments_lexer": "ipython3",
   "version": "3.9.7"
  },
  "orig_nbformat": 4,
  "vscode": {
   "interpreter": {
    "hash": "fef3571d6bf085add123fca72cc02c04844d6759d57a6f41ae441c841ab8eee5"
   }
  }
 },
 "nbformat": 4,
 "nbformat_minor": 2
}
