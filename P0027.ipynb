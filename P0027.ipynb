{
 "cells": [
  {
   "attachments": {},
   "cell_type": "markdown",
   "metadata": {},
   "source": [
    "# Quadratic primes\n",
    "### Problem 27\n",
    "\n",
    "Euler discovered the remarkable quadratic formula:\n",
    "\n",
    "$n^2 + n + 41$\n",
    "\n",
    "It turns out that the formula will produce 40 primes for the consecutive integer values $0 \\le n \\le 39$. However, when \n",
    "$n = 40, 40^2 + 40 + 41 = 40(40 + 1) + 41$ is divisible by 41, and certainly when $n = 41, 41^2 + 41 + 41$ is clearly divisible by 41.\n",
    "The incredible formula $n^2 - 79n + 1601$ was discovered, which produces 80 primes for the consecutive values $0 \\le n \\le 79$. The product of the coefficients, −79 and 1601, is −126479.\n",
    "Considering quadratics of the form:\n",
    "\n",
    "$n^2 + an + b$, where $|a| \\lt 1000$ and $|b| \\le 1000$ where $|n|$ is the modulus/absolute value of $n$ e.g. $|11| = 11$ and $|-4| = 4$\n",
    "\n",
    "Find the product of the coefficients, $a$ and $b$, for the quadratic expression that produces the maximum number of primes for consecutive values of $n$, starting with $n = 0$."
   ]
  },
  {
   "cell_type": "code",
   "execution_count": 20,
   "metadata": {},
   "outputs": [
    {
     "data": {
      "text/plain": [
       "-59231"
      ]
     },
     "execution_count": 20,
     "metadata": {},
     "output_type": "execute_result"
    }
   ],
   "source": [
    "from itertools import count\n",
    "from functions import check_if_prime\n",
    "\n",
    "max_n_primes = 0\n",
    "\n",
    "for a in range(-999, 1000):\n",
    "    for b in range(2, 1001):\n",
    "        if not check_if_prime(b):\n",
    "            continue\n",
    "        for n in count():\n",
    "            y = n**2 + a* n + b\n",
    "\n",
    "            if y <= 1:\n",
    "                break \n",
    "                \n",
    "            if not check_if_prime(n**2 + a* n + b):\n",
    "                break\n",
    "\n",
    "        if  n > max_n_primes:\n",
    "            max_n_primes = n\n",
    "            product = a*b\n",
    "\n",
    "product"
   ]
  }
 ],
 "metadata": {
  "kernelspec": {
   "display_name": "Python 3",
   "language": "python",
   "name": "python3"
  },
  "language_info": {
   "codemirror_mode": {
    "name": "ipython",
    "version": 3
   },
   "file_extension": ".py",
   "mimetype": "text/x-python",
   "name": "python",
   "nbconvert_exporter": "python",
   "pygments_lexer": "ipython3",
   "version": "3.9.7"
  },
  "orig_nbformat": 4,
  "vscode": {
   "interpreter": {
    "hash": "fef3571d6bf085add123fca72cc02c04844d6759d57a6f41ae441c841ab8eee5"
   }
  }
 },
 "nbformat": 4,
 "nbformat_minor": 2
}
