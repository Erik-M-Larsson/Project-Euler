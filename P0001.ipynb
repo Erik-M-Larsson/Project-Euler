{
 "cells": [
  {
   "cell_type": "markdown",
   "id": "517491f0",
   "metadata": {},
   "source": [
    "# Multiples of 3 or 5\n",
    "### Problem 1\n",
    "If we list all the natural numbers below 10 that are multiples of 3 or 5, we get 3, 5, 6 and 9. The sum of these multiples is 23.\n",
    "\n",
    "Find the sum of all the multiples of 3 or 5 below 1000.\n"
   ]
  },
  {
   "cell_type": "code",
   "execution_count": 1,
   "id": "0420f03d",
   "metadata": {},
   "outputs": [
    {
     "name": "stdout",
     "output_type": "stream",
     "text": [
      "233168\n"
     ]
    }
   ],
   "source": [
    "number_1 = 3\n",
    "number_2 = 5\n",
    "numbers_max = 1000\n",
    "\n",
    "sum_of_multiples = 0\n",
    "\n",
    "for i in range(number_1, numbers_max):\n",
    "    if i % number_1 == 0 or i % number_2 == 0:\n",
    "        sum_of_multiples += i\n",
    "\n",
    "print(sum_of_multiples)\n"
   ]
  }
 ],
 "metadata": {
  "kernelspec": {
   "display_name": "Python 3.9.7 64-bit",
   "language": "python",
   "name": "python3"
  },
  "language_info": {
   "codemirror_mode": {
    "name": "ipython",
    "version": 3
   },
   "file_extension": ".py",
   "mimetype": "text/x-python",
   "name": "python",
   "nbconvert_exporter": "python",
   "pygments_lexer": "ipython3",
   "version": "3.9.7"
  },
  "orig_nbformat": 4,
  "vscode": {
   "interpreter": {
    "hash": "fef3571d6bf085add123fca72cc02c04844d6759d57a6f41ae441c841ab8eee5"
   }
  }
 },
 "nbformat": 4,
 "nbformat_minor": 2
}
