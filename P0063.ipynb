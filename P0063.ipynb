{
 "cells": [
  {
   "cell_type": "markdown",
   "metadata": {},
   "source": [
    "# Powerful Digit Counts\n",
    "### Problem 63\n",
    "The 5-digit number, **16807 = 7^5**, is also a fifth power. Similarly, the **9**-digit number, \n",
    "**134217728 = 8^9**, is a ninth power.\n",
    "\n",
    "How many *n*-digit positive integers exist which are also an *n*th power?"
   ]
  },
  {
   "cell_type": "code",
   "execution_count": 1,
   "metadata": {},
   "outputs": [],
   "source": [
    "from itertools import count"
   ]
  },
  {
   "cell_type": "code",
   "execution_count": 2,
   "metadata": {},
   "outputs": [
    {
     "data": {
      "text/plain": [
       "49"
      ]
     },
     "execution_count": 2,
     "metadata": {},
     "output_type": "execute_result"
    }
   ],
   "source": [
    "tot_count = 0 \n",
    "for n in count(1):\n",
    "    \n",
    "    i_count = 0\n",
    "    for i in range(1, 10):\n",
    "        if len(str(i**n)) == n: \n",
    "            i_count += 1\n",
    "\n",
    "    if i_count:\n",
    "        tot_count += i_count\n",
    "    else:\n",
    "        break\n",
    "\n",
    "tot_count"
   ]
  }
 ],
 "metadata": {
  "kernelspec": {
   "display_name": "venv",
   "language": "python",
   "name": "python3"
  },
  "language_info": {
   "codemirror_mode": {
    "name": "ipython",
    "version": 3
   },
   "file_extension": ".py",
   "mimetype": "text/x-python",
   "name": "python",
   "nbconvert_exporter": "python",
   "pygments_lexer": "ipython3",
   "version": "3.11.6"
  }
 },
 "nbformat": 4,
 "nbformat_minor": 2
}
