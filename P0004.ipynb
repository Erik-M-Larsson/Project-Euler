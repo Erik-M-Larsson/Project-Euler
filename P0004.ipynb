{
 "cells": [
  {
   "cell_type": "markdown",
   "id": "772aec2a",
   "metadata": {},
   "source": [
    "# Largest palindrome product\n",
    "### Problem 4\n",
    "\n",
    "A palindromic number reads the same both ways. The largest palindrome made from the product of two 2-digit numbers is 9009 = 91 × 99.\n",
    "\n",
    "Find the largest palindrome made from the product of two 3-digit numbers.\n"
   ]
  },
  {
   "cell_type": "code",
   "execution_count": 1,
   "id": "e9ec5fba",
   "metadata": {},
   "outputs": [
    {
     "name": "stdout",
     "output_type": "stream",
     "text": [
      "-> 906609\n"
     ]
    }
   ],
   "source": [
    "number_of_digits = 3\n",
    "\n",
    "max_factor = 10**number_of_digits\n",
    "all_products =[]\n",
    "\n",
    "for i in range(1, max_factor):\n",
    "    for j in range(1, i+1):\n",
    "        all_products.append(i*j)\n",
    "\n",
    "all_products = sorted(set(all_products), reverse=True)\n",
    "\n",
    "for product in all_products:\n",
    "\n",
    "    product = str(product)\n",
    "    \n",
    "    for i, digit in enumerate(product):\n",
    "      \n",
    "        if digit != product[-(i+1)]: \n",
    "            break\n",
    "    else:\n",
    "        print(\"->\", product)\n",
    "        break"
   ]
  }
 ],
 "metadata": {
  "kernelspec": {
   "display_name": "Python 3.9.7 64-bit",
   "language": "python",
   "name": "python3"
  },
  "language_info": {
   "codemirror_mode": {
    "name": "ipython",
    "version": 3
   },
   "file_extension": ".py",
   "mimetype": "text/x-python",
   "name": "python",
   "nbconvert_exporter": "python",
   "pygments_lexer": "ipython3",
   "version": "3.9.7"
  },
  "orig_nbformat": 4,
  "vscode": {
   "interpreter": {
    "hash": "fef3571d6bf085add123fca72cc02c04844d6759d57a6f41ae441c841ab8eee5"
   }
  }
 },
 "nbformat": 4,
 "nbformat_minor": 2
}
