{
 "cells": [
  {
   "attachments": {},
   "cell_type": "markdown",
   "metadata": {},
   "source": [
    "# Ordered radicals\n",
    "### Problem 124\n",
    "The radical of n, rad(n), is the product of the distinct prime factors of n. For example, 504 = 23 × 32 × 7, so rad(504) = 2 × 3 × 7 = 42.\n",
    "\n",
    "If we calculate rad(n) for 1 ≤ n ≤ 10, then sort them on rad(n), and sorting on n if the radical values are equal, we get:\n",
    "\n",
    "    Unsorted\t \tSorted\n",
    "    n\trad(n)\t \tn\trad(n)\tk\n",
    "    1\t1\t \t1\t1\t1\n",
    "    2\t2\t \t2\t2\t2\n",
    "    3\t3\t \t4\t2\t3\n",
    "    4\t2\t \t8\t2\t4\n",
    "    5\t5\t \t3\t3\t5\n",
    "    6\t6\t \t9\t3\t6\n",
    "    7\t7\t \t5\t5\t7\n",
    "    8\t2\t \t6\t6\t8\n",
    "    9\t3\t \t7\t7\t9\n",
    "    10\t10\t \t10\t10\t10\n",
    "Let E(k) be the kth element in the sorted n column; for example, E(4) = 8 and E(6) = 9.\n",
    "\n",
    "If rad(n) is sorted for 1 ≤ n ≤ 100000, find E(10000).\n",
    "\n"
   ]
  },
  {
   "cell_type": "code",
   "execution_count": 49,
   "metadata": {},
   "outputs": [
    {
     "name": "stdout",
     "output_type": "stream",
     "text": [
      "100000\n"
     ]
    },
    {
     "data": {
      "text/plain": [
       "21417"
      ]
     },
     "execution_count": 49,
     "metadata": {},
     "output_type": "execute_result"
    }
   ],
   "source": [
    "from functions import prime_factors\n",
    "\n",
    "ns = []\n",
    "rads = []\n",
    "\n",
    "for n in range(1, 100_000+1):\n",
    "    print(n, end=\"\\r\")\n",
    "\n",
    "    rad = 1\n",
    "    for p in prime_factors(n, False):\n",
    "        rad *= p\n",
    "\n",
    "    ns.append(n)\n",
    "    rads.append(rad)\n",
    "print(\"\")\n",
    "\n",
    "lista = sorted(zip(rads, ns))\n",
    "\n",
    "lista[10000-1][1]"
   ]
  }
 ],
 "metadata": {
  "kernelspec": {
   "display_name": "Python 3",
   "language": "python",
   "name": "python3"
  },
  "language_info": {
   "codemirror_mode": {
    "name": "ipython",
    "version": 3
   },
   "file_extension": ".py",
   "mimetype": "text/x-python",
   "name": "python",
   "nbconvert_exporter": "python",
   "pygments_lexer": "ipython3",
   "version": "3.9.7"
  },
  "orig_nbformat": 4,
  "vscode": {
   "interpreter": {
    "hash": "fef3571d6bf085add123fca72cc02c04844d6759d57a6f41ae441c841ab8eee5"
   }
  }
 },
 "nbformat": 4,
 "nbformat_minor": 2
}
