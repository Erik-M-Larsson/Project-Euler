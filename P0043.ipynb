{
 "cells": [
  {
   "attachments": {},
   "cell_type": "markdown",
   "metadata": {},
   "source": [
    "# Sub-string divisibility\n",
    "### Problem 43\n",
    "The number, 1406357289, is a 0 to 9 pandigital number because it is made up of each of the digits 0 to 9 in some order, but it also has a rather interesting sub-string divisibility property.\n",
    "\n",
    "Let d1 be the 1st digit, d2 be the 2nd digit, and so on. In this way, we note the following:\n",
    "\n",
    "    d2_d3_d4 = 406 is divisible by 2\n",
    "    d3_d4_d5 = 063 is divisible by 3\n",
    "    d4_d5_d6 = 635 is divisible by 5\n",
    "    d5_d6_d7 = 357 is divisible by 7\n",
    "    d6_d7_d8 = 572 is divisible by 11\n",
    "    d7_d8_d9 = 728 is divisible by 13\n",
    "    d8_d9_d10 = 289 is divisible by 17\n",
    "Find the sum of all 0 to 9 pandigital numbers with this property."
   ]
  },
  {
   "cell_type": "code",
   "execution_count": 23,
   "metadata": {},
   "outputs": [
    {
     "data": {
      "text/plain": [
       "16695334890"
      ]
     },
     "execution_count": 23,
     "metadata": {},
     "output_type": "execute_result"
    }
   ],
   "source": [
    "from itertools import permutations\n",
    "from functions import prime_generator\n",
    "\n",
    "\n",
    "primes = [p for p  in prime_generator(17)]\n",
    "sum_pandigital_numbers = 0\n",
    "\n",
    "for permutation  in permutations(\"1234567890\"):\n",
    "    if p == 0:\n",
    "        break\n",
    "\n",
    "    n = (\"\".join(permutation))\n",
    "   \n",
    "    for i, prime in enumerate(primes, 1):\n",
    "        if int(n[i:i+3])%prime:\n",
    "            break\n",
    "    else:\n",
    "        sum_pandigital_numbers += int(n)\n",
    "\n",
    "sum_pandigital_numbers"
   ]
  }
 ],
 "metadata": {
  "kernelspec": {
   "display_name": "Python 3",
   "language": "python",
   "name": "python3"
  },
  "language_info": {
   "codemirror_mode": {
    "name": "ipython",
    "version": 3
   },
   "file_extension": ".py",
   "mimetype": "text/x-python",
   "name": "python",
   "nbconvert_exporter": "python",
   "pygments_lexer": "ipython3",
   "version": "3.9.7"
  },
  "orig_nbformat": 4,
  "vscode": {
   "interpreter": {
    "hash": "fef3571d6bf085add123fca72cc02c04844d6759d57a6f41ae441c841ab8eee5"
   }
  }
 },
 "nbformat": 4,
 "nbformat_minor": 2
}
