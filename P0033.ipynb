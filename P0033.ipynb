{
 "cells": [
  {
   "attachments": {},
   "cell_type": "markdown",
   "metadata": {},
   "source": [
    "# Digit cancelling fractions\n",
    "### Problem 33\n",
    "The fraction 49/98 is a curious fraction, as an inexperienced mathematician in attempting to simplify it may incorrectly believe that 49/98 = 4/8, which is correct, is obtained by cancelling the 9s.\n",
    "\n",
    "We shall consider fractions like, 30/50 = 3/5, to be trivial examples.\n",
    "\n",
    "There are exactly four non-trivial examples of this type of fraction, less than one in value, and containing two digits in the numerator and denominator.\n",
    "\n",
    "If the product of these four fractions is given in its lowest common terms, find the value of the denominator.\n"
   ]
  },
  {
   "cell_type": "code",
   "execution_count": 3,
   "metadata": {},
   "outputs": [
    {
     "name": "stdout",
     "output_type": "stream",
     "text": [
      "16/64 = 1/4\n",
      "19/95 = 1/5\n",
      "26/65 = 2/5\n",
      "49/98 = 4/8\n"
     ]
    },
    {
     "data": {
      "text/plain": [
       "100"
      ]
     },
     "execution_count": 3,
     "metadata": {},
     "output_type": "execute_result"
    }
   ],
   "source": [
    "from math import gcd\n",
    "\n",
    "prod_n = 1\n",
    "prod_d = 1\n",
    "\n",
    "for n in range(10, 99):\n",
    "    for d in range(n+1, 100):\n",
    "        nn, dd = str(n), str(d)\n",
    "\n",
    "        for i, _ in enumerate(nn):\n",
    "            if nn[i] != \"0\" and nn[i] in dd:\n",
    "                n_s = int(nn.replace(nn[i], \"\", 1))\n",
    "                d_s = int(dd.replace(nn[i], \"\", 1))\n",
    "\n",
    "                if d_s != \"0\":\n",
    "                    if n*d_s == n_s*d:\n",
    "                        print(f\"{n}/{d} = {n_s}/{d_s}\")\n",
    "                        prod_n *= n_s\n",
    "                        prod_d *= d_s\n",
    "\n",
    "prod_d // gcd(prod_n, prod_d)"
   ]
  }
 ],
 "metadata": {
  "kernelspec": {
   "display_name": "Python 3",
   "language": "python",
   "name": "python3"
  },
  "language_info": {
   "codemirror_mode": {
    "name": "ipython",
    "version": 3
   },
   "file_extension": ".py",
   "mimetype": "text/x-python",
   "name": "python",
   "nbconvert_exporter": "python",
   "pygments_lexer": "ipython3",
   "version": "3.9.7"
  },
  "orig_nbformat": 4,
  "vscode": {
   "interpreter": {
    "hash": "fef3571d6bf085add123fca72cc02c04844d6759d57a6f41ae441c841ab8eee5"
   }
  }
 },
 "nbformat": 4,
 "nbformat_minor": 2
}
