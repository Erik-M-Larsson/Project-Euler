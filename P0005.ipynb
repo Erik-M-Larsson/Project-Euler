{
 "cells": [
  {
   "cell_type": "markdown",
   "id": "9bdd3494",
   "metadata": {},
   "source": [
    "# Smallest multiple\n",
    "### Problem 5 \n",
    "2520 is the smallest number that can be divided by each of the numbers from 1 to 10 without any remainder.\n",
    "\n",
    "What is the smallest positive number that is evenly divisible by all of the numbers from 1 to 20?\n",
    "\n"
   ]
  },
  {
   "cell_type": "code",
   "execution_count": 4,
   "metadata": {},
   "outputs": [],
   "source": [
    "import math"
   ]
  },
  {
   "cell_type": "code",
   "execution_count": 1,
   "id": "23573498",
   "metadata": {},
   "outputs": [
    {
     "data": {
      "text/plain": [
       "232792560"
      ]
     },
     "execution_count": 1,
     "metadata": {},
     "output_type": "execute_result"
    }
   ],
   "source": [
    "# Räkna för hand är mycket lättare :D\n",
    "5*19*9*17*16*7*13*11\n"
   ]
  },
  {
   "cell_type": "code",
   "execution_count": 2,
   "id": "a039d2eb",
   "metadata": {},
   "outputs": [],
   "source": [
    "def prime_factors(n):\n",
    "    \n",
    "    list_of_prime_factors = []\n",
    "\n",
    "    for i in range(2, n+1):\n",
    "        \n",
    "        while n % i == 0:\n",
    "            list_of_prime_factors.append(i)\n",
    "            n /= i\n",
    "            if n == 1:\n",
    "                return list_of_prime_factors\n",
    "    \n",
    "    return list_of_prime_factors"
   ]
  },
  {
   "cell_type": "code",
   "execution_count": 5,
   "id": "45a10e76",
   "metadata": {},
   "outputs": [
    {
     "data": {
      "text/plain": [
       "232792560"
      ]
     },
     "execution_count": 5,
     "metadata": {},
     "output_type": "execute_result"
    }
   ],
   "source": [
    "max_range = 20\n",
    "\n",
    "prime_counts = [0 for _ in range(max_range+1)]\n",
    "\n",
    "for i in range(2, max_range+1):\n",
    "    \n",
    "    items = prime_factors(i)\n",
    "    prime_counts = [max(items.count(item), prime_counts[item]) for item in range(max_range+1) ]\n",
    "\n",
    "product = math.prod([j**item for j, item in enumerate(prime_counts)])\n",
    "product"
   ]
  }
 ],
 "metadata": {
  "kernelspec": {
   "display_name": "Python 3.9.7 64-bit",
   "language": "python",
   "name": "python3"
  },
  "language_info": {
   "codemirror_mode": {
    "name": "ipython",
    "version": 3
   },
   "file_extension": ".py",
   "mimetype": "text/x-python",
   "name": "python",
   "nbconvert_exporter": "python",
   "pygments_lexer": "ipython3",
   "version": "3.9.7"
  },
  "orig_nbformat": 4,
  "vscode": {
   "interpreter": {
    "hash": "fef3571d6bf085add123fca72cc02c04844d6759d57a6f41ae441c841ab8eee5"
   }
  }
 },
 "nbformat": 4,
 "nbformat_minor": 2
}
