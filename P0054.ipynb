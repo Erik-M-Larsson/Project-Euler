{
 "cells": [
  {
   "attachments": {},
   "cell_type": "markdown",
   "metadata": {},
   "source": [
    "# Poker hands\n",
    "### Problem 54\n",
    "In the card game poker, a hand consists of five cards and are ranked, from lowest to highest, in the following way:\n",
    "\n",
    "- High Card: Highest value card.\n",
    "- One Pair: Two cards of the same value.\n",
    "- Two Pairs: Two different pairs.\n",
    "- Three of a Kind: Three cards of the same value.\n",
    "- Straight: All cards are consecutive values.\n",
    "- Flush: All cards of the same suit.\n",
    "- Full House: Three of a kind and a pair.\n",
    "- Four of a Kind: Four cards of the same value.\n",
    "- Straight Flush: All cards are consecutive values of same suit.\n",
    "- Royal Flush: Ten, Jack, Queen, King, Ace, in same suit.\n",
    "\n",
    "\n",
    "The cards are valued in the order:\n",
    "2, 3, 4, 5, 6, 7, 8, 9, 10, Jack, Queen, King, Ace.\n",
    "\n",
    "If two players have the same ranked hands then the rank made up of the highest value wins; for example, a pair of eights beats a pair of fives (see example 1 below). But if two ranks tie, for example, both players have a pair of queens, then highest cards in each hand are compared (see example 4 below); if the highest cards tie then the next highest cards are compared, and so on.\n",
    "\n",
    "Consider the following five hands dealt to two players:\n",
    "\n",
    "\tHand\tPlayer 1\t\tPlayer 2\t\tWinner\n",
    "\t1\t5H 5C 6S 7S KD\t\t2C 3S 8S 8D TD\t\tPlayer 2\n",
    "\t\tPair of Fives\t\tPair of Eights\n",
    "\n",
    "\t2\t5D 8C 9S JS AC\t\t2C 5C 7D 8S QH\t\tPlayer 1\n",
    "\t\tHighest card Ace\tHighest card Queen\n",
    "\n",
    "\t3\t2D 9C AS AH AC\t\t3D 6D 7D TD QD\t\tPlayer 2\n",
    "\t\tThree Aces\t\tFlush with Diamonds\n",
    "\t\n",
    "\t4\t4D 6S 9H QH QC\t\t3D 6D 7H QD QS\t\tPlayer 1\n",
    "\t\tPair of Queens\t\tPair of Queens\n",
    "\t\tHighest card Nine\tHighest card Seven\n",
    "\t\n",
    "\t5\t2H 2D 4C 4D 4S\t\t3C 3D 3S 9S 9D\t\tPlayer 1\n",
    "\t\tFull House\t\tFull House\n",
    "\t\tWith Three Fours\twith Three Threes\n",
    "\n",
    "\t\t\n",
    "\t\t\n",
    "The file, poker.txt, contains one-thousand random hands dealt to two players. Each line of the file contains ten cards (separated by a single space): the first five are Player 1's cards and the last five are Player 2's cards. You can assume that all hands are valid (no invalid characters or repeated cards), each player's hand is in no specific order, and in each hand there is a clear winner.\n",
    "\n",
    "How many hands does Player 1 win?"
   ]
  },
  {
   "cell_type": "code",
   "execution_count": 1,
   "metadata": {},
   "outputs": [],
   "source": [
    "file = \"p054_poker.txt\"\n",
    "\n",
    "with open(file, 'r') as f:\n",
    "    hands = f.read().splitlines()"
   ]
  },
  {
   "cell_type": "code",
   "execution_count": 2,
   "metadata": {},
   "outputs": [],
   "source": [
    "rank = {  \n",
    "    # Cards\n",
    "    '2': 2,\n",
    "    '3': 3,\n",
    "    '4': 4,\n",
    "    '5': 5,\n",
    "    '6': 6,\n",
    "    '7': 7,\n",
    "    '8': 8,\n",
    "    '9': 9,\n",
    "    'T': 10,\n",
    "    'J': 11,\n",
    "    'Q': 12,\n",
    "    'K': 13,\n",
    "    'A': 14,\n",
    "\n",
    "    # Hands\n",
    "    \"high card\": 0,\n",
    "    \"one pair\": 1,\n",
    "    \"two pairs\": 2,\n",
    "    \"three of a kind\": 3,\n",
    "    \"straight\": 4,\n",
    "    \"flush\": 5,\n",
    "    \"full house\": 6,\n",
    "    \"four of a kind\": 7,\n",
    "    \"straight flush\": 8,\n",
    "    # \"royal flush\": 9 # Not needed. A case of straight flush. The one with highest cards will win anyway.\n",
    "}"
   ]
  },
  {
   "cell_type": "code",
   "execution_count": 3,
   "metadata": {},
   "outputs": [],
   "source": [
    "def evaluate_hand(players_hand):\n",
    "    values, suits = [card for card in zip(*players_hand)]\n",
    "  \n",
    "    unique_values = sorted(list(set(values)), key=lambda c: rank[c], reverse=True)\n",
    "\n",
    "\n",
    "    if len(unique_values) != 5:\n",
    " \n",
    "        occurrence = {val:values.count(val) for val in unique_values}\n",
    " \n",
    "        highest_count = max(occurrence.items(), key=lambda k: k[1])\n",
    "        del occurrence[highest_count[0]]\n",
    "        second_highest = max(occurrence.items(), key=lambda k: k[1])\n",
    "        del occurrence[second_highest[0]]\n",
    "        residual_cards = list(occurrence.keys())\n",
    "\n",
    "        if highest_count[1] == 4:\n",
    "            hand = \"four of a kind\"\n",
    "\n",
    "        elif highest_count[1] == 3:\n",
    "            if second_highest[1] == 2:\n",
    "                hand = \"full house\"\n",
    "            else:\n",
    "                hand = \"three of a kind\"\n",
    "            \n",
    "        elif highest_count[1] == 2:\n",
    "            if second_highest[1] == 2: \n",
    "                hand = \"two pairs\"\n",
    "            else:\n",
    "                hand = \"one pair\"\n",
    "                \n",
    "        return [hand, highest_count[0], second_highest[0]] + residual_cards \n",
    "\n",
    "    else: \n",
    "        set_suits = set(suits)\n",
    "        flush = True if len(set_suits) == 1 else False\n",
    "        straight = True if rank[unique_values[0]] - rank[unique_values[-1]]== 4 else False\n",
    "\n",
    "        if straight and flush:\n",
    "            hand = \"straight flush\"\n",
    "        elif straight:\n",
    "            hand = \"straight\"\n",
    "        elif flush: \n",
    "            hand = \"flush\"\n",
    "        else:\n",
    "            hand = \"high card\"\n",
    "\n",
    "        return [hand] + unique_values    \n"
   ]
  },
  {
   "cell_type": "code",
   "execution_count": 4,
   "metadata": {},
   "outputs": [
    {
     "data": {
      "text/plain": [
       "376"
      ]
     },
     "execution_count": 4,
     "metadata": {},
     "output_type": "execute_result"
    }
   ],
   "source": [
    "player_1_score = 0\n",
    "\n",
    "for hand in hands:\n",
    "    hand = hand.split(\" \")\n",
    "    player_1, player_2 = hand[:5], hand[5:]\n",
    "\n",
    "    player_1_ranks, player_2_ranks = evaluate_hand(player_1), evaluate_hand(player_2)\n",
    "    \n",
    "    for p1, p2 in zip(player_1_ranks, player_2_ranks):\n",
    "        rank_p1, rank_p2 = rank[p1], rank[p2] \n",
    "        \n",
    "        if rank_p1 < rank_p2:\n",
    "            break\n",
    "        elif rank_p1 > rank_p2:\n",
    "            player_1_score += 1\n",
    "            break\n",
    "\n",
    "player_1_score"
   ]
  }
 ],
 "metadata": {
  "kernelspec": {
   "display_name": "Python 3",
   "language": "python",
   "name": "python3"
  },
  "language_info": {
   "codemirror_mode": {
    "name": "ipython",
    "version": 3
   },
   "file_extension": ".py",
   "mimetype": "text/x-python",
   "name": "python",
   "nbconvert_exporter": "python",
   "pygments_lexer": "ipython3",
   "version": "3.9.7"
  },
  "orig_nbformat": 4,
  "vscode": {
   "interpreter": {
    "hash": "fef3571d6bf085add123fca72cc02c04844d6759d57a6f41ae441c841ab8eee5"
   }
  }
 },
 "nbformat": 4,
 "nbformat_minor": 2
}
