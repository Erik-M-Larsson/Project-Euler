{
 "cells": [
  {
   "attachments": {},
   "cell_type": "markdown",
   "metadata": {},
   "source": [
    "# Number letter counts\n",
    "### Problem 17\n",
    "\n",
    "If the numbers 1 to 5 are written out in words: one, two, three, four, five, then there are 3 + 3 + 5 + 4 + 4 = 19 letters used in total.\n",
    "\n",
    "If all the numbers from 1 to 1000 (one thousand) inclusive were written out in words, how many letters would be used?\n",
    "\n",
    "\n",
    "NOTE: Do not count spaces or hyphens. For example, 342 (three hundred and forty-two) contains 23 letters and 115 (one hundred and fifteen) contains 20 letters. The use of \"and\" when writing out numbers is in compliance with British usage."
   ]
  },
  {
   "cell_type": "code",
   "execution_count": 110,
   "metadata": {},
   "outputs": [],
   "source": [
    "numbers ={\n",
    "    0: \"zero\",\n",
    "    1: \"one\",\n",
    "    2: \"two\",\n",
    "    3: \"three\",\n",
    "    4: \"four\",\n",
    "    5: \"five\",\n",
    "    6: \"six\",\n",
    "    7: \"seven\",\n",
    "    8: \"eight\",\n",
    "    9: \"nine\",\n",
    "    10: \"ten\",\n",
    "    11: \"eleven\",\n",
    "    12: \"twelve\",\n",
    "    13: \"thirteen\",\n",
    "    14: \"fourteen\",\n",
    "    15: \"fifteen\",\n",
    "    16: \"sixteen\",\n",
    "    17: \"seventeen\",\n",
    "    18: \"eighteen\",\n",
    "    19: \"nineteen\",\n",
    "    20: \"twenty\",\n",
    "    30: \"thirty\",\n",
    "    40: \"forty\",\n",
    "    50: \"fifty\",\n",
    "    60: \"sixty\",\n",
    "    70: \"seventy\",\n",
    "    80: \"eighty\",\n",
    "    90: \"ninety\",\n",
    "    100: \"hundred\",\n",
    "    1000: \"thousand\"\n",
    "}\n",
    "\n",
    "letters_in_number = {key: len(val) for key, val in numbers.items()}\n"
   ]
  },
  {
   "cell_type": "code",
   "execution_count": 111,
   "metadata": {},
   "outputs": [
    {
     "data": {
      "text/plain": [
       "21124"
      ]
     },
     "execution_count": 111,
     "metadata": {},
     "output_type": "execute_result"
    }
   ],
   "source": [
    "total_number_of_letters = 0\n",
    "\n",
    "for n in range(1, 1000+1):\n",
    "    number_of_letters = 0\n",
    "\n",
    "    x= n % 100\n",
    "    n //= 100 \n",
    "    if 0 < x < 20:\n",
    "        number_of_letters += letters_in_number[x]\n",
    "    elif 20 <= x:\n",
    "        number_of_letters += letters_in_number[x//10*10] + (letters_in_number[x%10] if x%10 else 0)\n",
    "\n",
    "    x= n%10\n",
    "    n //= 10\n",
    "    if x:\n",
    "        number_of_letters = letters_in_number[x] + letters_in_number[100] + (3 + number_of_letters if number_of_letters else 0) \n",
    "\n",
    "    x= n%10\n",
    "    n //= 10\n",
    "\n",
    "    if x:\n",
    "        number_of_letters = letters_in_number[x] + letters_in_number[1000] + number_of_letters\n",
    "\n",
    "    total_number_of_letters += number_of_letters\n",
    "\n",
    "total_number_of_letters"
   ]
  }
 ],
 "metadata": {
  "kernelspec": {
   "display_name": "Python 3",
   "language": "python",
   "name": "python3"
  },
  "language_info": {
   "codemirror_mode": {
    "name": "ipython",
    "version": 3
   },
   "file_extension": ".py",
   "mimetype": "text/x-python",
   "name": "python",
   "nbconvert_exporter": "python",
   "pygments_lexer": "ipython3",
   "version": "3.9.7 (tags/v3.9.7:1016ef3, Aug 30 2021, 20:19:38) [MSC v.1929 64 bit (AMD64)]"
  },
  "orig_nbformat": 4,
  "vscode": {
   "interpreter": {
    "hash": "fef3571d6bf085add123fca72cc02c04844d6759d57a6f41ae441c841ab8eee5"
   }
  }
 },
 "nbformat": 4,
 "nbformat_minor": 2
}
